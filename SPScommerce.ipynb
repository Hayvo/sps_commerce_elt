{
 "cells": [
  {
   "cell_type": "markdown",
   "metadata": {},
   "source": [
    "# __SPS Commerce Installation Tutorial__\n",
    "\n",
    "## __1. Get an invite on the account of the client__ \n",
    "\n",
    "Send the client this link : https://help.analytics.spscommerce.com/en/articles/7170512-how-to-add-a-new-user\n",
    "Make sure to ask them to give Administrator Access as well as an access to all products / retailer.\n",
    "\n",
    "## __2. Create a Web Service Application__\n",
    "\n",
    "Go into the Dev Center of the platform and create a Web Service Application.\n",
    "Retrieve the __CLIENT_ID__ and the __CLIENT_SECRET__."
   ]
  },
  {
   "cell_type": "code",
   "execution_count": null,
   "metadata": {},
   "outputs": [],
   "source": [
    "import yaml\n",
    "import os \n",
    "import requests\n",
    "\n",
    "spsCredentials = open(\"../server/src/var/login_credentials/sps_login.yml\", \"r\")\n",
    "spsCredentials = yaml.load(spsCredentials, Loader=yaml.FullLoader)\n",
    "\n",
    "CLIENT_ID = spsCredentials['sps_commerce']['CLIENT_ID']\n",
    "CLIENT_SECRET = spsCredentials['sps_commerce']['CLIENT_SECRET']\n",
    "print(CLIENT_ID, CLIENT_SECRET)"
   ]
  },
  {
   "cell_type": "markdown",
   "metadata": {},
   "source": [
    "### __3. Allow app access__\n",
    "\n",
    "Fill the params and click the printed URL.\n",
    "Get the code."
   ]
  },
  {
   "cell_type": "code",
   "execution_count": null,
   "metadata": {},
   "outputs": [],
   "source": [
    "params = {'audience':'api://api.spscommerce.com/',\n",
    "          'client_id':CLIENT_ID,\n",
    "          'redirect_uri':'https://www.bravosierra.com/account/login',\n",
    "          'response_type':'code',\n",
    "          'scope':'offline_access'\n",
    "          }\n",
    "url = f\"https://auth.spscommerce.com/authorize?redirect_uri={params['redirect_uri']}&response_type={params['response_type']}&client_id={params['client_id']}&scope={params['scope']}&audience={params['audience']}\"\n",
    "print(url)"
   ]
  },
  {
   "cell_type": "code",
   "execution_count": null,
   "metadata": {},
   "outputs": [],
   "source": [
    "code = 'xxx'"
   ]
  },
  {
   "cell_type": "code",
   "execution_count": null,
   "metadata": {},
   "outputs": [],
   "source": [
    "url = f\"https://auth.spscommerce.com/oauth/token\"\n",
    "params = {'client_id':CLIENT_ID,\n",
    "            'client_secret':CLIENT_SECRET,\n",
    "            'code':code,\n",
    "            'grant_type':'authorization_code',\n",
    "            'redirect_uri':'https://www.bravosierra.com/account/login'\n",
    "            }\n",
    "response = requests.post(url, params)\n",
    "print(response.json())\n",
    "ACCESS_TOKEN = response.json()['access_token']\n",
    "REFRESH_TOKEN = response.json()['refresh_token']"
   ]
  },
  {
   "cell_type": "code",
   "execution_count": null,
   "metadata": {},
   "outputs": [],
   "source": [
    "spsCredentials['sps_commerce']['ACCESS_TOKEN'] = ACCESS_TOKEN\n",
    "spsCredentials['sps_commerce']['REFRESH_TOKEN'] = REFRESH_TOKEN\n",
    "\n",
    "with open(\"../server/src/var/login_credentials/sps_login.yml\", \"w\") as file:\n",
    "    yaml.dump(spsCredentials, file)"
   ]
  },
  {
   "cell_type": "code",
   "execution_count": null,
   "metadata": {},
   "outputs": [],
   "source": [
    "url = f\"https://api.spscommerce.com/auth-check\"\n",
    "\n",
    "headers = {'Authorization':\"Bearer \" + ACCESS_TOKEN,}\n",
    "response = requests.post(url, headers=headers)\n",
    "print(response.status_code)"
   ]
  },
  {
   "cell_type": "code",
   "execution_count": null,
   "metadata": {},
   "outputs": [],
   "source": [
    "def refresh_token(token,refresh_token):\n",
    "    url = f\"https://api.spscommerce.com/auth-check\"\n",
    "    headers = {'Authorization':\"Bearer \" + token}\n",
    "    response = requests.post(url, headers=headers)\n",
    "\n",
    "    if response.status_code == 204:\n",
    "        return token, refresh_token\n",
    "    else:\n",
    "        url = f\"https://auth.spscommerce.com/oauth/token\"\n",
    "        params = {'client_id':CLIENT_ID,\n",
    "                'client_secret':CLIENT_SECRET,\n",
    "                'refresh_token':refresh_token,\n",
    "                'grant_type':'refresh_token',\n",
    "                }\n",
    "        response = requests.post(url, params)\n",
    "        ACCESS_TOKEN = response.json()['access_token']\n",
    "        REFRESH_TOKEN = response.json()['refresh_token']\n",
    "        return ACCESS_TOKEN, REFRESH_TOKEN"
   ]
  }
 ],
 "metadata": {
  "kernelspec": {
   "display_name": "datagem",
   "language": "python",
   "name": "python3"
  },
  "language_info": {
   "codemirror_mode": {
    "name": "ipython",
    "version": 3
   },
   "file_extension": ".py",
   "mimetype": "text/x-python",
   "name": "python",
   "nbconvert_exporter": "python",
   "pygments_lexer": "ipython3",
   "version": "3.10.14"
  }
 },
 "nbformat": 4,
 "nbformat_minor": 2
}
